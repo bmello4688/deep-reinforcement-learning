{
 "cells": [
  {
   "cell_type": "markdown",
   "metadata": {},
   "source": [
    "# Continuous Control\n",
    "\n",
    "---\n",
    "\n",
    "In this notebook, you will learn how to use the Unity ML-Agents environment for the second project of the [Deep Reinforcement Learning Nanodegree](https://www.udacity.com/course/deep-reinforcement-learning-nanodegree--nd893) program.\n",
    "\n",
    "### 1. Start the Environment\n",
    "\n",
    "We begin by importing the necessary packages.  If the code cell below returns an error, please revisit the project instructions to double-check that you have installed [Unity ML-Agents](https://github.com/Unity-Technologies/ml-agents/blob/master/docs/Installation.md) and [NumPy](http://www.numpy.org/)."
   ]
  },
  {
   "cell_type": "code",
   "execution_count": 1,
   "metadata": {},
   "outputs": [],
   "source": [
    "from unityagents import UnityEnvironment\n",
    "import numpy as np\n",
    "import os\n",
    "#causes crash without this\n",
    "os.environ[\"KMP_DUPLICATE_LIB_OK\"]=\"TRUE\""
   ]
  },
  {
   "cell_type": "markdown",
   "metadata": {},
   "source": [
    "Next, we will start the environment!  **_Before running the code cell below_**, change the `file_name` parameter to match the location of the Unity environment that you downloaded.\n",
    "\n",
    "- **Mac**: `\"path/to/Reacher.app\"`\n",
    "- **Windows** (x86): `\"path/to/Reacher_Windows_x86/Reacher.exe\"`\n",
    "- **Windows** (x86_64): `\"path/to/Reacher_Windows_x86_64/Reacher.exe\"`\n",
    "- **Linux** (x86): `\"path/to/Reacher_Linux/Reacher.x86\"`\n",
    "- **Linux** (x86_64): `\"path/to/Reacher_Linux/Reacher.x86_64\"`\n",
    "- **Linux** (x86, headless): `\"path/to/Reacher_Linux_NoVis/Reacher.x86\"`\n",
    "- **Linux** (x86_64, headless): `\"path/to/Reacher_Linux_NoVis/Reacher.x86_64\"`\n",
    "\n",
    "For instance, if you are using a Mac, then you downloaded `Reacher.app`.  If this file is in the same folder as the notebook, then the line below should appear as follows:\n",
    "```\n",
    "env = UnityEnvironment(file_name=\"Reacher.app\")\n",
    "```"
   ]
  },
  {
   "cell_type": "code",
   "execution_count": 2,
   "metadata": {},
   "outputs": [
    {
     "name": "stderr",
     "output_type": "stream",
     "text": [
      "INFO:unityagents:\n",
      "'Academy' started successfully!\n",
      "Unity Academy name: Academy\n",
      "        Number of Brains: 1\n",
      "        Number of External Brains : 1\n",
      "        Lesson number : 0\n",
      "        Reset Parameters :\n",
      "\t\tgoal_speed -> 1.0\n",
      "\t\tgoal_size -> 5.0\n",
      "Unity brain name: ReacherBrain\n",
      "        Number of Visual Observations (per agent): 0\n",
      "        Vector Observation space type: continuous\n",
      "        Vector Observation space size (per agent): 33\n",
      "        Number of stacked Vector Observation: 1\n",
      "        Vector Action space type: continuous\n",
      "        Vector Action space size (per agent): 4\n",
      "        Vector Action descriptions: , , , \n"
     ]
    }
   ],
   "source": [
    "env = UnityEnvironment(file_name='.\\Reacher_Windows_x86_64\\Reacher.exe')"
   ]
  },
  {
   "cell_type": "markdown",
   "metadata": {},
   "source": [
    "Environments contain **_brains_** which are responsible for deciding the actions of their associated agents. Here we check for the first brain available, and set it as the default brain we will be controlling from Python."
   ]
  },
  {
   "cell_type": "code",
   "execution_count": 3,
   "metadata": {},
   "outputs": [],
   "source": [
    "# get the default brain\n",
    "brain_name = env.brain_names[0]\n",
    "brain = env.brains[brain_name]"
   ]
  },
  {
   "cell_type": "markdown",
   "metadata": {},
   "source": [
    "### 2. Examine the State and Action Spaces\n",
    "\n",
    "In this environment, a double-jointed arm can move to target locations. A reward of `+0.1` is provided for each step that the agent's hand is in the goal location. Thus, the goal of your agent is to maintain its position at the target location for as many time steps as possible.\n",
    "\n",
    "The observation space consists of `33` variables corresponding to position, rotation, velocity, and angular velocities of the arm.  Each action is a vector with four numbers, corresponding to torque applicable to two joints.  Every entry in the action vector must be a number between `-1` and `1`.\n",
    "\n",
    "Run the code cell below to print some information about the environment."
   ]
  },
  {
   "cell_type": "code",
   "execution_count": 4,
   "metadata": {},
   "outputs": [
    {
     "name": "stdout",
     "output_type": "stream",
     "text": [
      "Number of agents: 1\n",
      "Size of each action: 4\n",
      "There are 1 agents. Each observes a state with length: 33\n",
      "The state for the first agent looks like: [ 0.00000000e+00 -4.00000000e+00  0.00000000e+00  1.00000000e+00\n",
      " -0.00000000e+00 -0.00000000e+00 -4.37113883e-08  0.00000000e+00\n",
      "  0.00000000e+00  0.00000000e+00  0.00000000e+00  0.00000000e+00\n",
      "  0.00000000e+00  0.00000000e+00 -1.00000000e+01  0.00000000e+00\n",
      "  1.00000000e+00 -0.00000000e+00 -0.00000000e+00 -4.37113883e-08\n",
      "  0.00000000e+00  0.00000000e+00  0.00000000e+00  0.00000000e+00\n",
      "  0.00000000e+00  0.00000000e+00  5.75471878e+00 -1.00000000e+00\n",
      "  5.55726671e+00  0.00000000e+00  1.00000000e+00  0.00000000e+00\n",
      " -1.68164849e-01]\n"
     ]
    }
   ],
   "source": [
    "# reset the environment\n",
    "env_info = env.reset(train_mode=True)[brain_name]\n",
    "\n",
    "# number of agents\n",
    "num_agents = len(env_info.agents)\n",
    "print('Number of agents:', num_agents)\n",
    "\n",
    "# size of each action\n",
    "action_size = brain.vector_action_space_size\n",
    "print('Size of each action:', action_size)\n",
    "\n",
    "# examine the state space \n",
    "states = env_info.vector_observations\n",
    "state_size = states.shape[1]\n",
    "print('There are {} agents. Each observes a state with length: {}'.format(states.shape[0], state_size))\n",
    "print('The state for the first agent looks like:', states[0])"
   ]
  },
  {
   "cell_type": "markdown",
   "metadata": {},
   "source": [
    "### 3. Take Random Actions in the Environment\n",
    "\n",
    "In the next code cell, you will learn how to use the Python API to control the agent and receive feedback from the environment.\n",
    "\n",
    "Once this cell is executed, you will watch the agent's performance, if it selects an action at random with each time step.  A window should pop up that allows you to observe the agent, as it moves through the environment.  \n",
    "\n",
    "Of course, as part of the project, you'll have to change the code so that the agent is able to use its experience to gradually choose better actions when interacting with the environment!"
   ]
  },
  {
   "cell_type": "code",
   "execution_count": 5,
   "metadata": {},
   "outputs": [],
   "source": [
    "import gym\n",
    "import random\n",
    "import torch\n",
    "import numpy as np\n",
    "from collections import deque\n",
    "\n",
    "from ddpg_agent import Agent\n",
    "\n",
    "def showScores(scores):\n",
    "    import matplotlib.pyplot as plt\n",
    "    %matplotlib inline\n",
    "\n",
    "    fig = plt.figure()\n",
    "    ax = fig.add_subplot(111)\n",
    "    plt.plot(np.arange(1, len(scores)+1), scores)\n",
    "    plt.ylabel('Score')\n",
    "    plt.xlabel('Episode #')\n",
    "    plt.show()\n",
    "\n",
    "#modified from pendulum activity\n",
    "def ddpg(n_episodes=1000, max_t=300, print_every=100,\n",
    "         fc1_units=400, fc2_units=300,\n",
    "                replay_buffer_size=int(1e5), minibatch_size=128, gamma=0.99, tau=1e-3, \n",
    "                 actor_learning_rate=1e-4, critic_learning_rate=1e-3, weight_decay=0,\n",
    "                mu_noise=0., theta_noise=0.15, sigma_noise=0.2, random_seed=2):\n",
    "    \n",
    "    agents = []\n",
    "    for i in range(num_agents):\n",
    "        agent = Agent(state_size, action_size, random_seed, fc1_units, fc2_units,\n",
    "                replay_buffer_size, minibatch_size, gamma, tau, \n",
    "                 actor_learning_rate, critic_learning_rate, weight_decay,\n",
    "                mu_noise, theta_noise, sigma_noise)\n",
    "        agents.append(agent)\n",
    "    \n",
    "    scores_deque = deque(maxlen=print_every)\n",
    "    scores = [0] * num_agents\n",
    "    for i_episode in range(1, n_episodes+1):\n",
    "        env_info = env.reset(train_mode=True)[brain_name]     # reset the environment    \n",
    "        states = env_info.vector_observations                  # get the current state (for each agent)\n",
    "        \n",
    "        for i in range(num_agents):\n",
    "            state = states[i]\n",
    "            agents[i].reset()\n",
    "            score = 0\n",
    "            for t in range(max_t):\n",
    "                action = agent.act(state)\n",
    "                env_info=env.step(action)[brain_name]        # send action to the environment\n",
    "                next_state = env_info.vector_observations[i]\n",
    "                reward = env_info.rewards[i]\n",
    "                done = env_info.local_done[i]\n",
    "                agents[i].step(state, action, reward, next_state, done)\n",
    "                state = next_state\n",
    "                score += reward\n",
    "                if done:\n",
    "                    break\n",
    "            scores[i] = score\n",
    "            \n",
    "        worst_training_agent_score = np.min(scores)\n",
    "        scores_deque.append(worst_training_agent_score)\n",
    "        average_score = np.mean(scores_deque)\n",
    "        \n",
    "        print('\\rEpisode {}\\tAverage Score: {:.2f}'.format(i_episode, average_score), end=\"\")\n",
    "        torch.save(agent.actor_local.state_dict(), 'checkpoint_actor.pth')\n",
    "        torch.save(agent.critic_local.state_dict(), 'checkpoint_critic.pth')\n",
    "        \n",
    "        \n",
    "        \n",
    "        if average_score > 30:\n",
    "            print('Environment Solved!!!!\\n')\n",
    "            break\n",
    "        elif i_episode % print_every == 0:\n",
    "            print('\\rEpisode {}\\tAverage Score: {:.2f}'.format(i_episode, average_score))\n",
    "            \n",
    "    print(\"\\n\")\n",
    "    return list(scores_deque)"
   ]
  },
  {
   "cell_type": "code",
   "execution_count": 6,
   "metadata": {},
   "outputs": [
    {
     "name": "stdout",
     "output_type": "stream",
     "text": [
      "Agent parameters: state_size=33 action_size=4 random_seed=2\n",
      "               fc1_units=400 fc2_units=300\n",
      "               replay_buffer_size=100000 minibatch_size=128 gamma=0.99\n",
      "               tau=0.001 actor_learning_rate=0.0001 critic_learning_rate=0.001\n",
      "               l2_weight_decay=0\n",
      "               mu_noise=0.0 theta_noise=0.15 sigma_noise=0.2\n",
      "Using device: cuda:0\n",
      "Episode 100\tAverage Score: 0.01\n",
      "\n",
      "\n",
      "Default values:\n"
     ]
    },
    {
     "data": {
      "image/png": "[encoded data removed]",
      "text/plain": [
       "<Figure size 432x288 with 1 Axes>"
      ]
     },
     "metadata": {
      "needs_background": "light"
     },
     "output_type": "display_data"
    }
   ],
   "source": [
    "#default values check with 100 episodes\n",
    "scores = ddpg(100)\n",
    "\n",
    "print(\"Default values:\")\n",
    "showScores(scores)"
   ]
  },
  {
   "cell_type": "code",
   "execution_count": 7,
   "metadata": {},
   "outputs": [
    {
     "name": "stdout",
     "output_type": "stream",
     "text": [
      "Agent parameters: state_size=33 action_size=4 random_seed=2\n",
      "               fc1_units=128 fc2_units=128\n",
      "               replay_buffer_size=100000 minibatch_size=128 gamma=0.99\n",
      "               tau=0.001 actor_learning_rate=0.0001 critic_learning_rate=0.001\n",
      "               l2_weight_decay=0\n",
      "               mu_noise=0.0 theta_noise=0.15 sigma_noise=0.2\n",
      "Using device: cuda:0\n",
      "Episode 100\tAverage Score: 0.01\n",
      "\n",
      "\n",
      "Change neural network node size for potential simplification:\n"
     ]
    },
    {
     "data": {
      "image/png": "[encoded data removed]",
      "text/plain": [
       "<Figure size 432x288 with 1 Axes>"
      ]
     },
     "metadata": {
      "needs_background": "light"
     },
     "output_type": "display_data"
    }
   ],
   "source": [
    "#Try using less nodes for faster learning\n",
    "scores = ddpg(100, 300, 100, 128, 128)\n",
    "\n",
    "print(\"Change neural network node size for potential simplification:\")\n",
    "showScores(scores)"
   ]
  },
  {
   "cell_type": "code",
   "execution_count": 8,
   "metadata": {},
   "outputs": [
    {
     "name": "stdout",
     "output_type": "stream",
     "text": [
      "Agent parameters: state_size=33 action_size=4 random_seed=2\n",
      "               fc1_units=400 fc2_units=300\n",
      "               replay_buffer_size=100000 minibatch_size=128 gamma=0.99\n",
      "               tau=0.001 actor_learning_rate=0.001 critic_learning_rate=0.001\n",
      "               l2_weight_decay=0\n",
      "               mu_noise=0.0 theta_noise=0.15 sigma_noise=0.2\n",
      "Using device: cuda:0\n",
      "Episode 100\tAverage Score: 0.01\n",
      "\n",
      "\n",
      "Increase actor learn rate:\n"
     ]
    },
    {
     "data": {
      "image/png": "[encoded data removed]",
      "text/plain": [
       "<Figure size 432x288 with 1 Axes>"
      ]
     },
     "metadata": {
      "needs_background": "light"
     },
     "output_type": "display_data"
    }
   ],
   "source": [
    "#Increase actor learning\n",
    "scores = ddpg(100, 300, 100, 400, 300, int(1e5), 128, 0.99, 0.001, 0.001, 0.001)\n",
    "\n",
    "print(\"Increase actor learn rate:\")\n",
    "showScores(scores)"
   ]
  },
  {
   "cell_type": "code",
   "execution_count": 9,
   "metadata": {},
   "outputs": [
    {
     "name": "stdout",
     "output_type": "stream",
     "text": [
      "Agent parameters: state_size=33 action_size=4 random_seed=2\n",
      "               fc1_units=128 fc2_units=128\n",
      "               replay_buffer_size=100000 minibatch_size=128 gamma=0.99\n",
      "               tau=0.001 actor_learning_rate=0.001 critic_learning_rate=0.001\n",
      "               l2_weight_decay=0\n",
      "               mu_noise=0.0 theta_noise=0.15 sigma_noise=0.2\n",
      "Using device: cuda:0\n",
      "Episode 100\tAverage Score: 0.01\n",
      "Episode 200\tAverage Score: 0.02\n",
      "\n",
      "\n",
      "Increase actor learn rate and less NN nodes:\n"
     ]
    },
    {
     "data": {
      "image/png": "[encoded data removed]",
      "text/plain": [
       "<Figure size 432x288 with 1 Axes>"
      ]
     },
     "metadata": {
      "needs_background": "light"
     },
     "output_type": "display_data"
    }
   ],
   "source": [
    "#Increase actor learning\n",
    "scores = ddpg(200, 300, 100, 128, 128, int(1e5), 128, 0.99, 0.001, 0.001, 0.001)\n",
    "\n",
    "print(\"Increase actor learn rate and less NN nodes:\")\n",
    "showScores(scores)"
   ]
  },
  {
   "cell_type": "code",
   "execution_count": 11,
   "metadata": {},
   "outputs": [
    {
     "name": "stdout",
     "output_type": "stream",
     "text": [
      "Agent parameters: state_size=33 action_size=4 random_seed=2\n",
      "               fc1_units=128 fc2_units=128\n",
      "               replay_buffer_size=100000 minibatch_size=128 gamma=0.99\n",
      "               tau=0.001 actor_learning_rate=0.001 critic_learning_rate=0.001\n",
      "               l2_weight_decay=0\n",
      "               mu_noise=0.0 theta_noise=0.15 sigma_noise=0.1\n",
      "Using device: cuda:0\n",
      "Episode 100\tAverage Score: 0.02\n",
      "Episode 200\tAverage Score: 0.01\n",
      "\n",
      "\n",
      "Increase actor learning, reduce nodes, reduce noise std:\n"
     ]
    },
    {
     "data": {
      "image/png": "[encoded data removed]",
      "text/plain": [
       "<Figure size 432x288 with 1 Axes>"
      ]
     },
     "metadata": {
      "needs_background": "light"
     },
     "output_type": "display_data"
    }
   ],
   "source": [
    "#Increase actor learning, reduce nodes, reduce noise std\n",
    "scores = ddpg(200, 300, 100, 128, 128, int(1e5), 128, 0.99, 0.001, 0.001, 0.001, 0, 0., 0.15, 0.1)\n",
    "\n",
    "print(\"Increase actor learning, reduce nodes, reduce noise std:\")\n",
    "showScores(scores)"
   ]
  },
  {
   "cell_type": "markdown",
   "metadata": {},
   "source": [
    "### 4. Watch a Smart Agent!"
   ]
  },
  {
   "cell_type": "code",
   "execution_count": null,
   "metadata": {},
   "outputs": [],
   "source": [
    "env_info = env.reset(train_mode=False)[brain_name] \n",
    "\n",
    "# number of agents\n",
    "num_agents = len(env_info.agents)\n",
    "print('Number of agents:', num_agents)\n",
    "\n",
    "# size of each action\n",
    "action_size = brain.vector_action_space_size\n",
    "print('Size of each action:', action_size)\n",
    "\n",
    "# examine the state space \n",
    "states = env_info.vector_observations\n",
    "state_size = states.shape[1]\n",
    "\n",
    "agents = []\n",
    "for i in range(num_agents):\n",
    "    agent = Agent(state_size, action_size, random_seed=2)\n",
    "    agent.actor_local.load_state_dict(torch.load('checkpoint_actor.pth'))\n",
    "    agent.critic_local.load_state_dict(torch.load('checkpoint_critic.pth'))\n",
    "    agents.append(agent)\n",
    "\n",
    "        \n",
    "for i in range(num_agents):\n",
    "    state = states[i]\n",
    "    agents[i].reset()\n",
    "    for t in range(200):\n",
    "        action = agent.act(state, add_noise=False)\n",
    "        env_info=env.step(action)[brain_name]        # send action to the environment\n",
    "        next_state = env_info.vector_observations[i]\n",
    "        reward = env_info.rewards[i]\n",
    "        done = env_info.local_done[i]\n",
    "        agents[i].step(state, action, reward, next_state, done)\n",
    "        state = next_state\n",
    "        score += reward\n",
    "        if done:\n",
    "            break\n",
    "            \n",
    "env.close()"
   ]
  },
  {
   "cell_type": "markdown",
   "metadata": {},
   "source": [
    "### 4. It's Your Turn!\n",
    "\n",
    "Now it's your turn to train your own agent to solve the environment!  When training the environment, set `train_mode=True`, so that the line for resetting the environment looks like the following:\n",
    "```python\n",
    "env_info = env.reset(train_mode=True)[brain_name]\n",
    "```"
   ]
  }
 ],
 "metadata": {
  "kernelspec": {
   "display_name": "Python 3",
   "language": "python",
   "name": "python3"
  },
  "language_info": {
   "codemirror_mode": {
    "name": "ipython",
    "version": 3
   },
   "file_extension": ".py",
   "mimetype": "text/x-python",
   "name": "python",
   "nbconvert_exporter": "python",
   "pygments_lexer": "ipython3",
   "version": "3.6.12"
  }
 },
 "nbformat": 4,
 "nbformat_minor": 2
}
